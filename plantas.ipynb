{
 "cells": [
  {
   "cell_type": "markdown",
   "id": "91ed78e2",
   "metadata": {},
   "source": [
    "# Se realiza el análisis del modelo entrenado para verificar su eficiencia\n",
    "- Para probar el modelo las clases se dividieron de la siguiente manera:\n",
    "    - Healthy: 201 imágenes\n",
    "    - Armyworm: 222 imágenes\n",
    "    - Leaf_blight: 103 imágenes"
   ]
  },
  {
   "cell_type": "code",
   "execution_count": 57,
   "id": "4916f8bb",
   "metadata": {},
   "outputs": [
    {
     "name": "stdout",
     "output_type": "stream",
     "text": [
      "Found 526 files belonging to 3 classes.\n",
      "Clases existentes:  ['Healthy', 'armyworm', 'leaf_blight']\n"
     ]
    }
   ],
   "source": [
    "import tensorflow as tf\n",
    "from tensorflow import keras\n",
    "import os, sys\n",
    "import numpy as np\n",
    "from sklearn import metrics\n",
    "import matplotlib.pyplot as plt\n",
    "from tensorflow.keras.preprocessing import image_dataset_from_directory\n",
    "from tensorflow.keras.preprocessing.image import img_to_array\n",
    "from PIL import Image\n",
    "\n",
    "def get_features_and_labels(dataset):\n",
    "    all_features = []\n",
    "    all_labels = []\n",
    "    all_images = []\n",
    "    #conv_base = keras.applications.vgg16.VGG16(weights =\"imagenet\", include_top = False, input_shape = (180, 180, 3))\n",
    "    conv_base = keras.applications.resnet50.ResNet50(weights =\"imagenet\", include_top = False, input_shape = (180, 180, 3))\n",
    "    for images, labels in dataset:\n",
    "        #preprocessed_images = keras.applications.vgg16.preprocess_input(images)\n",
    "        preprocessed_images = keras.applications.resnet50.preprocess_input(images)\n",
    "        features = conv_base.predict(preprocessed_images)\n",
    "        all_features.append(features)\n",
    "        all_labels.append(labels)\n",
    "        for im in images:\n",
    "            all_images.append(im)\n",
    "    return all_images, np.concatenate(all_features), np.concatenate(all_labels)\n",
    "    \n",
    "def Get_predicts(test_dataset):\n",
    "    images, features, labels = get_features_and_labels(test_dataset)\n",
    "    preds = model.predict(features)\n",
    "    pred = tf.argmax(preds, axis = 1)\n",
    "    for i in range( len(pred) ):\n",
    "        if int(pred[i]) != int(labels[i]):\n",
    "            failed_images.append( [ images[i], labels[i], pred[i] ] )\n",
    "    return labels, pred\n",
    "\n",
    "def Plotting(results):\n",
    "    fig = plt.figure(figsize = (24, 18))\n",
    "    for i,res in enumerate(results):\n",
    "        try:\n",
    "            plt.subplot(4, 4, i + 1)\n",
    "            plt.imshow(res[0].numpy().astype(\"uint8\") , cmap = \"viridis\")\n",
    "            plt.title('Real: ' + class_names[res[1]] + '\\n Pred: '+class_names[res[2]], size = 15, color = \"red\")\n",
    "            plt.axis(\"off\")\n",
    "        except:\n",
    "            break\n",
    "    plt.show()\n",
    "\n",
    "batch_size = 32 \n",
    "image_w_h = 180\n",
    "path_test = 'test'\n",
    "failed_images = []\n",
    "image_size = (image_w_h, image_w_h) # (180, 180)\n",
    "test_dataset = image_dataset_from_directory(\n",
    "    path_test,\n",
    "    image_size = image_size,\n",
    "    batch_size = batch_size\n",
    ") \n",
    "class_names = test_dataset.class_names\n",
    "print('Clases existentes: ', class_names)"
   ]
  },
  {
   "cell_type": "markdown",
   "id": "b8d84b18",
   "metadata": {},
   "source": [
    "### Análisis de la calidad del modelo entrenado"
   ]
  },
  {
   "cell_type": "code",
   "execution_count": 58,
   "id": "8113f100",
   "metadata": {},
   "outputs": [
    {
     "name": "stderr",
     "output_type": "stream",
     "text": [
      "2023-04-17 15:13:13.647068: I tensorflow/core/common_runtime/executor.cc:1197] [/device:CPU:0] (DEBUG INFO) Executor start aborting (this does not indicate an error and you can ignore this message): INVALID_ARGUMENT: You must feed a value for placeholder tensor 'Placeholder/_4' with dtype int32 and shape [526]\n",
      "\t [[{{node Placeholder/_4}}]]\n",
      "2023-04-17 15:13:13.647342: I tensorflow/core/common_runtime/executor.cc:1197] [/device:CPU:0] (DEBUG INFO) Executor start aborting (this does not indicate an error and you can ignore this message): INVALID_ARGUMENT: You must feed a value for placeholder tensor 'Placeholder/_0' with dtype string and shape [526]\n",
      "\t [[{{node Placeholder/_0}}]]\n"
     ]
    },
    {
     "name": "stdout",
     "output_type": "stream",
     "text": [
      "1/1 [==============================] - 2s 2s/step\n",
      "1/1 [==============================] - 1s 983ms/step\n",
      "1/1 [==============================] - 1s 879ms/step\n",
      "1/1 [==============================] - 1s 914ms/step\n",
      "1/1 [==============================] - 1s 881ms/step\n",
      "1/1 [==============================] - 1s 889ms/step\n",
      "1/1 [==============================] - 1s 727ms/step\n",
      "1/1 [==============================] - 1s 710ms/step\n",
      "1/1 [==============================] - 1s 723ms/step\n",
      "1/1 [==============================] - 1s 723ms/step\n",
      "1/1 [==============================] - 1s 739ms/step\n",
      "1/1 [==============================] - 1s 723ms/step\n",
      "1/1 [==============================] - 1s 728ms/step\n",
      "1/1 [==============================] - 1s 744ms/step\n",
      "1/1 [==============================] - 1s 724ms/step\n",
      "1/1 [==============================] - 1s 736ms/step\n",
      "1/1 [==============================] - 1s 895ms/step\n",
      "17/17 [==============================] - 0s 9ms/step\n"
     ]
    }
   ],
   "source": [
    "model = tf.keras.models.load_model('Trained_models/classifierV298.85931611061096.h5')\n",
    "labels, pred = Get_predicts(test_dataset)"
   ]
  },
  {
   "cell_type": "code",
   "execution_count": 59,
   "id": "2e4193a0",
   "metadata": {},
   "outputs": [
    {
     "name": "stdout",
     "output_type": "stream",
     "text": [
      "              precision    recall  f1-score   support\n",
      "\n",
      "           0     0.9803    0.9900    0.9851       201\n",
      "           1     0.9955    0.9955    0.9955       222\n",
      "           2     0.9901    0.9709    0.9804       103\n",
      "\n",
      "    accuracy                         0.9886       526\n",
      "   macro avg     0.9886    0.9855    0.9870       526\n",
      "weighted avg     0.9886    0.9886    0.9886       526\n",
      "\n"
     ]
    }
   ],
   "source": [
    "print(metrics.classification_report(labels, pred, digits=4))"
   ]
  },
  {
   "cell_type": "code",
   "execution_count": 60,
   "id": "11187ee7",
   "metadata": {},
   "outputs": [
    {
     "data": {
      "image/png": "[encoded data removed]",
      "text/plain": [
       "<Figure size 900x900 with 1 Axes>"
      ]
     },
     "metadata": {},
     "output_type": "display_data"
    }
   ],
   "source": [
    "from sklearn.metrics import confusion_matrix\n",
    "from mlxtend.plotting import plot_confusion_matrix\n",
    "\n",
    "matc = confusion_matrix(labels, pred)\n",
    "plot_confusion_matrix(conf_mat=matc, figsize=(9,9), class_names=class_names, show_normed=False)\n",
    "plt.tight_layout()"
   ]
  },
  {
   "cell_type": "markdown",
   "id": "80de9945",
   "metadata": {},
   "source": [
    "- Para Healthy se muestra que tuvo 199 imágenes como verdadero positivo, 4 como falso positivo y 2 como falso negativo.\n",
    "- Para Armyworm se muestra que tuvo 221 imágenes como verdadero positivo, 1 como falso positivo y 1 como falso negativo.\n",
    "- Para Leaft blight se muestra que tuvo 100 imágenes como verdadero positivo, 1 como falso positivo y 3 como falso negativo."
   ]
  },
  {
   "cell_type": "code",
   "execution_count": null,
   "id": "f0f3a62e",
   "metadata": {},
   "outputs": [
    {
     "name": "stdout",
     "output_type": "stream",
     "text": [
      "Total de imágenes con error:  6\n"
     ]
    }
   ],
   "source": [
    "print('Total de imágenes con error: ', len(failed_images))\n",
    "Plotting(failed_images)"
   ]
  },
  {
   "cell_type": "code",
   "execution_count": null,
   "id": "3556edd4",
   "metadata": {},
   "outputs": [],
   "source": []
  }
 ],
 "metadata": {
  "kernelspec": {
   "display_name": "Python 3 (ipykernel)",
   "language": "python",
   "name": "python3"
  },
  "language_info": {
   "codemirror_mode": {
    "name": "ipython",
    "version": 3
   },
   "file_extension": ".py",
   "mimetype": "text/x-python",
   "name": "python",
   "nbconvert_exporter": "python",
   "pygments_lexer": "ipython3",
   "version": "3.8.16"
  }
 },
 "nbformat": 4,
 "nbformat_minor": 5
}
